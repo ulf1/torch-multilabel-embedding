{
 "cells": [
  {
   "cell_type": "code",
   "execution_count": 1,
   "id": "f5ef8809-90a7-4f4f-8fa5-ab67212452b9",
   "metadata": {},
   "outputs": [],
   "source": [
    "import sys\n",
    "sys.path.append('..')"
   ]
  },
  {
   "cell_type": "code",
   "execution_count": 5,
   "id": "0f7f20e2-74ff-4435-aa5f-859c0bde6641",
   "metadata": {},
   "outputs": [],
   "source": [
    "import torch_multilabel_embedding as tml\n",
    "import torch"
   ]
  },
  {
   "cell_type": "markdown",
   "id": "b0bad6c9-f5e3-49b0-9d33-e70b19ba3e3a",
   "metadata": {},
   "source": [
    "## Multi-label embedding"
   ]
  },
  {
   "cell_type": "code",
   "execution_count": 3,
   "id": "e504cdcb-18a4-41e3-b622-9ebc51e8e365",
   "metadata": {},
   "outputs": [
    {
     "name": "stdout",
     "output_type": "stream",
     "text": [
      "81.6 µs ± 13.4 µs per loop (mean ± std. dev. of 7 runs, 10000 loops each)\n"
     ]
    }
   ],
   "source": [
    "examples = [[1, 2, 4], [0, 1, 2], [2, 1, 4], [3, 2, 1]]\n",
    "examples = torch.tensor(examples)\n",
    "\n",
    "layer1 = tml.MultiLabelEmbedding(vocab_size=500000, embed_size=300, random_state=42)\n",
    "%timeit layer1(examples)"
   ]
  },
  {
   "cell_type": "markdown",
   "id": "087163e0-0768-4ac4-b7d8-4c75395e1f07",
   "metadata": {},
   "source": [
    "## Simple dense embedding"
   ]
  },
  {
   "cell_type": "code",
   "execution_count": 4,
   "id": "88db463f-791a-4cb4-a182-8b0418c5e462",
   "metadata": {},
   "outputs": [
    {
     "name": "stdout",
     "output_type": "stream",
     "text": [
      "79.5 ms ± 1.95 ms per loop (mean ± std. dev. of 7 runs, 1 loop each)\n"
     ]
    }
   ],
   "source": [
    "# examples = [[1, 2, 4], [0, 1, 2], [2, 1, 4], [3, 2, 1]]\n",
    "examples = [[0., 1, 1, 0, 1], [1, 1, 1, 0, 0], [0, 1, 1, 0, 1], [0, 1, 1, 1, 0]]\n",
    "examples = [ex + [0]*(500000-5) for ex in examples]\n",
    "examples = torch.tensor(examples)\n",
    "\n",
    "layer2 = torch.nn.Linear(500000, 300, bias=False)\n",
    "layer2.weight = torch.nn.parameter.Parameter(layer1.weight.detach().T)\n",
    "\n",
    "%timeit layer2(examples)"
   ]
  }
 ],
 "metadata": {
  "kernelspec": {
   "display_name": "Python 3 (ipykernel)",
   "language": "python",
   "name": "python3"
  },
  "language_info": {
   "codemirror_mode": {
    "name": "ipython",
    "version": 3
   },
   "file_extension": ".py",
   "mimetype": "text/x-python",
   "name": "python",
   "nbconvert_exporter": "python",
   "pygments_lexer": "ipython3",
   "version": "3.7.9"
  }
 },
 "nbformat": 4,
 "nbformat_minor": 5
}
